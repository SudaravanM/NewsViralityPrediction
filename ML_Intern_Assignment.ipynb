{
  "nbformat": 4,
  "nbformat_minor": 0,
  "metadata": {
    "colab": {
      "name": "ML_Intern_Assignment.ipynb",
      "provenance": [],
      "collapsed_sections": []
    },
    "kernelspec": {
      "name": "python3",
      "display_name": "Python 3"
    }
  },
  "cells": [
    {
      "cell_type": "markdown",
      "metadata": {
        "id": "GNjkalWu7KZc",
        "colab_type": "text"
      },
      "source": [
        "##**Bipolar Factory Internship Assessment.**\n",
        "##Date of Submission: 27rd April 2020\n",
        "#### Tamil Sudarvan M - IIT Madras"
      ]
    },
    {
      "cell_type": "code",
      "metadata": {
        "id": "UqKtOplgne_b",
        "colab_type": "code",
        "colab": {}
      },
      "source": [
        "#Importing Required Libraries\n",
        "import requests\n",
        "import pandas as pd\n",
        "import numpy as np\n",
        "from bs4 import BeautifulSoup"
      ],
      "execution_count": 0,
      "outputs": []
    },
    {
      "cell_type": "markdown",
      "metadata": {
        "id": "LPJmYWchuefx",
        "colab_type": "text"
      },
      "source": [
        "# **Scrapping Viral and Latest Headlines From NDTV Website**"
      ]
    },
    {
      "cell_type": "code",
      "metadata": {
        "id": "l07dJltz-pZW",
        "colab_type": "code",
        "colab": {}
      },
      "source": [
        "# Function to scrap headlines from the given URL\n",
        "def webScrapper(pageNo,url,query=''):\n",
        "  data = []\n",
        "  for i in range (pageNo):\n",
        "    if len(query) > 0: \n",
        "      urlFinal = url + str(i) + \"&query=\" + query\n",
        "    else:\n",
        "      urlFinal = url + str(i)\n",
        "    r = requests.get(urlFinal)\n",
        "    soup = BeautifulSoup(r.content, 'html5lib') \n",
        "    table = soup.findAll('p', attrs = {'class':'header fbld'})\n",
        "    for row in table:\n",
        "      data.append(row.get_text())\n",
        "  return data"
      ],
      "execution_count": 0,
      "outputs": []
    },
    {
      "cell_type": "code",
      "metadata": {
        "id": "o3ueuxkl-z-y",
        "colab_type": "code",
        "colab": {}
      },
      "source": [
        "pageNo = 100\n",
        "url = \"https://www.ndtv.com/page/topic-load-more?%20type=news&page=\"\n",
        "headLinesViral  = webScrapper(pageNo,url,'viral') #Viral Headlines\n",
        "headLinesLatest = webScrapper(pageNo,url)         #Latest Headlines\n",
        "headLinesTest   = webScrapper(25,url,'business')  #Test Headlines from Business"
      ],
      "execution_count": 0,
      "outputs": []
    },
    {
      "cell_type": "code",
      "metadata": {
        "id": "AJKNdi0hANNz",
        "colab_type": "code",
        "outputId": "74a3d0c5-70fd-4ec5-ca67-06c071113ead",
        "colab": {
          "base_uri": "https://localhost:8080/",
          "height": 34
        }
      },
      "source": [
        "print(len(headLinesViral),len(headLinesLatest),len(headLinesTest))\n",
        "Y =  np.asarray(len(headLinesViral)*[1] + len(headLinesLatest)*[0]) #"
      ],
      "execution_count": 22,
      "outputs": [
        {
          "output_type": "stream",
          "text": [
            "1015 1015 375\n"
          ],
          "name": "stdout"
        }
      ]
    },
    {
      "cell_type": "code",
      "metadata": {
        "id": "bJ6I4ZqBg7ga",
        "colab_type": "code",
        "outputId": "a0e3f3dd-a7e1-459a-8a2a-0eac3eb947c1",
        "colab": {
          "base_uri": "https://localhost:8080/",
          "height": 185
        }
      },
      "source": [
        "headLinesViral[:10]"
      ],
      "execution_count": 23,
      "outputs": [
        {
          "output_type": "execute_result",
          "data": {
            "text/plain": [
              "['Viral: A Petition To #UninstallWhatsApp For Amitabh Bachchan, Anand Mahindra',\n",
              " 'Viral Video Of Dolphins In Meerut Stuns Internet. Watch',\n",
              " 'Watch: Stuntmen Choreograph Hilarious Fight Sequence While Social Distancing',\n",
              " \"E-Rickshaw Driver's Social Distancing Innovation Wins Anand Mahindra's Praise\",\n",
              " \"Watch: RCB Director Mike Hesson Mesmerised By 6-Year-Old Indian Girl's Batting Skills\",\n",
              " \"Ankita Lokhande's Mushy Post With Boyfriend Vicky Jain Is Just Too Cute\",\n",
              " \"Viral: When Shah Rukh Khan Attended Kajol's Mehndi With Gauri And Aryan\",\n",
              " 'Sobhita Dhulipala, Accused Of Faking A \"Self-Timed\" Photoshoot, Writes About \"Unkind Conclusions\"',\n",
              " 'Pet Owner Puts Dog On Car Roof, Drives Around City. Watch',\n",
              " 'Viral Pic Shows Cops Sleeping On Ground, Twitter Thanks #CoronaWarriors']"
            ]
          },
          "metadata": {
            "tags": []
          },
          "execution_count": 23
        }
      ]
    },
    {
      "cell_type": "code",
      "metadata": {
        "id": "iY-sa65Eg7-C",
        "colab_type": "code",
        "outputId": "de5505f3-af98-4750-f072-83244479a2f6",
        "colab": {
          "base_uri": "https://localhost:8080/",
          "height": 185
        }
      },
      "source": [
        "headLinesLatest[:10]"
      ],
      "execution_count": 24,
      "outputs": [
        {
          "output_type": "execute_result",
          "data": {
            "text/plain": [
              "['Ronaldinho Says Arrest And Confinement Has Been \"Hard\"',\n",
              " 'Coronavirus - Mumbai Schools To Become Quarantine Centres As COVID-19 Cases Cross 5,500',\n",
              " 'Lucknow Police Sends Notice To Kanika Kapoor For Questioning',\n",
              " 'Advance Summer Vacation To May 1: Ghaziabad Administration To School Education Director',\n",
              " 'New Symptoms Of COVID-19 Identified By Top US Medical Watchdog',\n",
              " 'Indian Couple In UAE Die 5-Days Apart, Tested Negative For COVID-19: Report',\n",
              " 'Indian-American Congresswoman Endorses Joe Biden For US President',\n",
              " 'After Row Over Tax Hike Advice, Action Against 3 Senior Officers',\n",
              " 'Tamil Nadu To Return 24,000 Rapid Testing Kits To China',\n",
              " 'Sunil Lahri And Anuradha Patel In A Rare Pic From 1985 Film Phir Aayee Barsat']"
            ]
          },
          "metadata": {
            "tags": []
          },
          "execution_count": 24
        }
      ]
    },
    {
      "cell_type": "code",
      "metadata": {
        "id": "7QodWoPmg8ea",
        "colab_type": "code",
        "outputId": "d0b390fd-107b-4b2f-bb6c-82cabbdb3589",
        "colab": {
          "base_uri": "https://localhost:8080/",
          "height": 185
        }
      },
      "source": [
        "headLinesTest[:10]"
      ],
      "execution_count": 25,
      "outputs": [
        {
          "output_type": "execute_result",
          "data": {
            "text/plain": [
              "[\"Why Government's DA Decision Will Hurt, Not Help, Economy\",\n",
              " 'India Weighs Plan to Guarantee $39 Billion of Small-Business Loans: Report',\n",
              " 'Lockdown Will Stay In Red Zones; Push \"Do Gaz Doori\", Says PM: 10 Points',\n",
              " 'Sensex, Nifty Likely To Open Higher On Positive Global Cues',\n",
              " \"E-Rickshaw Driver's Social Distancing Innovation Wins Anand Mahindra's Praise\",\n",
              " 'Daimler Says China Business Picks Up Again: Report',\n",
              " 'Indian Car Makers Assure Employees About No Salary Cut Or Job Loss Post Lockdown',\n",
              " 'SAARC Nations Roll Out Stimulus Packages To Tackle COVID-19 Economic Fallout',\n",
              " '\"Knock Knock. Who\\'s There?\" Not Sara Ali Khan And Ibrahim. They Are Busy Working Out',\n",
              " \"Sonia Gandhi Wants Credit Of Centre's Efforts For Small Businesses: Prakash Javadekar\"]"
            ]
          },
          "metadata": {
            "tags": []
          },
          "execution_count": 25
        }
      ]
    },
    {
      "cell_type": "code",
      "metadata": {
        "id": "r8B6EJ6VA2Zm",
        "colab_type": "code",
        "colab": {}
      },
      "source": [
        "newsData = pd.DataFrame(headLinesViral + headLinesLatest,columns =['News_Data'])\n",
        "newsData_test = pd.DataFrame(headLinesTest,columns =['News_Data'])"
      ],
      "execution_count": 0,
      "outputs": []
    },
    {
      "cell_type": "code",
      "metadata": {
        "id": "-lB6uEeqBfHs",
        "colab_type": "code",
        "outputId": "b97abd40-8a7e-4475-c92b-607cad51a6df",
        "colab": {
          "base_uri": "https://localhost:8080/",
          "height": 195
        }
      },
      "source": [
        "newsData.head()"
      ],
      "execution_count": 27,
      "outputs": [
        {
          "output_type": "execute_result",
          "data": {
            "text/html": [
              "<div>\n",
              "<style scoped>\n",
              "    .dataframe tbody tr th:only-of-type {\n",
              "        vertical-align: middle;\n",
              "    }\n",
              "\n",
              "    .dataframe tbody tr th {\n",
              "        vertical-align: top;\n",
              "    }\n",
              "\n",
              "    .dataframe thead th {\n",
              "        text-align: right;\n",
              "    }\n",
              "</style>\n",
              "<table border=\"1\" class=\"dataframe\">\n",
              "  <thead>\n",
              "    <tr style=\"text-align: right;\">\n",
              "      <th></th>\n",
              "      <th>News_Data</th>\n",
              "    </tr>\n",
              "  </thead>\n",
              "  <tbody>\n",
              "    <tr>\n",
              "      <th>0</th>\n",
              "      <td>Viral: A Petition To #UninstallWhatsApp For Am...</td>\n",
              "    </tr>\n",
              "    <tr>\n",
              "      <th>1</th>\n",
              "      <td>Viral Video Of Dolphins In Meerut Stuns Intern...</td>\n",
              "    </tr>\n",
              "    <tr>\n",
              "      <th>2</th>\n",
              "      <td>Watch: Stuntmen Choreograph Hilarious Fight Se...</td>\n",
              "    </tr>\n",
              "    <tr>\n",
              "      <th>3</th>\n",
              "      <td>E-Rickshaw Driver's Social Distancing Innovati...</td>\n",
              "    </tr>\n",
              "    <tr>\n",
              "      <th>4</th>\n",
              "      <td>Watch: RCB Director Mike Hesson Mesmerised By ...</td>\n",
              "    </tr>\n",
              "  </tbody>\n",
              "</table>\n",
              "</div>"
            ],
            "text/plain": [
              "                                           News_Data\n",
              "0  Viral: A Petition To #UninstallWhatsApp For Am...\n",
              "1  Viral Video Of Dolphins In Meerut Stuns Intern...\n",
              "2  Watch: Stuntmen Choreograph Hilarious Fight Se...\n",
              "3  E-Rickshaw Driver's Social Distancing Innovati...\n",
              "4  Watch: RCB Director Mike Hesson Mesmerised By ..."
            ]
          },
          "metadata": {
            "tags": []
          },
          "execution_count": 27
        }
      ]
    },
    {
      "cell_type": "code",
      "metadata": {
        "id": "cPKuBo2hfCNa",
        "colab_type": "code",
        "outputId": "5a6d56fc-3006-4c9d-e59b-e28d019b5ab2",
        "colab": {
          "base_uri": "https://localhost:8080/",
          "height": 195
        }
      },
      "source": [
        "newsData_test.head()"
      ],
      "execution_count": 28,
      "outputs": [
        {
          "output_type": "execute_result",
          "data": {
            "text/html": [
              "<div>\n",
              "<style scoped>\n",
              "    .dataframe tbody tr th:only-of-type {\n",
              "        vertical-align: middle;\n",
              "    }\n",
              "\n",
              "    .dataframe tbody tr th {\n",
              "        vertical-align: top;\n",
              "    }\n",
              "\n",
              "    .dataframe thead th {\n",
              "        text-align: right;\n",
              "    }\n",
              "</style>\n",
              "<table border=\"1\" class=\"dataframe\">\n",
              "  <thead>\n",
              "    <tr style=\"text-align: right;\">\n",
              "      <th></th>\n",
              "      <th>News_Data</th>\n",
              "    </tr>\n",
              "  </thead>\n",
              "  <tbody>\n",
              "    <tr>\n",
              "      <th>0</th>\n",
              "      <td>Why Government's DA Decision Will Hurt, Not He...</td>\n",
              "    </tr>\n",
              "    <tr>\n",
              "      <th>1</th>\n",
              "      <td>India Weighs Plan to Guarantee $39 Billion of ...</td>\n",
              "    </tr>\n",
              "    <tr>\n",
              "      <th>2</th>\n",
              "      <td>Lockdown Will Stay In Red Zones; Push \"Do Gaz ...</td>\n",
              "    </tr>\n",
              "    <tr>\n",
              "      <th>3</th>\n",
              "      <td>Sensex, Nifty Likely To Open Higher On Positiv...</td>\n",
              "    </tr>\n",
              "    <tr>\n",
              "      <th>4</th>\n",
              "      <td>E-Rickshaw Driver's Social Distancing Innovati...</td>\n",
              "    </tr>\n",
              "  </tbody>\n",
              "</table>\n",
              "</div>"
            ],
            "text/plain": [
              "                                           News_Data\n",
              "0  Why Government's DA Decision Will Hurt, Not He...\n",
              "1  India Weighs Plan to Guarantee $39 Billion of ...\n",
              "2  Lockdown Will Stay In Red Zones; Push \"Do Gaz ...\n",
              "3  Sensex, Nifty Likely To Open Higher On Positiv...\n",
              "4  E-Rickshaw Driver's Social Distancing Innovati..."
            ]
          },
          "metadata": {
            "tags": []
          },
          "execution_count": 28
        }
      ]
    },
    {
      "cell_type": "markdown",
      "metadata": {
        "id": "t0cCpJsMuvOw",
        "colab_type": "text"
      },
      "source": [
        "## **Pre-Processing the data we got**"
      ]
    },
    {
      "cell_type": "code",
      "metadata": {
        "id": "GozJjKNGDrpf",
        "colab_type": "code",
        "outputId": "e739813a-1267-451e-9339-45cd23d51854",
        "colab": {
          "base_uri": "https://localhost:8080/",
          "height": 67
        }
      },
      "source": [
        "import re\n",
        "import nltk\n",
        "nltk.download('wordnet')"
      ],
      "execution_count": 29,
      "outputs": [
        {
          "output_type": "stream",
          "text": [
            "[nltk_data] Downloading package wordnet to /root/nltk_data...\n",
            "[nltk_data]   Unzipping corpora/wordnet.zip.\n"
          ],
          "name": "stdout"
        },
        {
          "output_type": "execute_result",
          "data": {
            "text/plain": [
              "True"
            ]
          },
          "metadata": {
            "tags": []
          },
          "execution_count": 29
        }
      ]
    },
    {
      "cell_type": "code",
      "metadata": {
        "id": "Jz9sto47xx0G",
        "colab_type": "code",
        "colab": {}
      },
      "source": [
        "#Function to remove non-alphanumericals\n",
        "def remove_special_characters(data):\n",
        "  newData = []\n",
        "  for text in data:\n",
        "    pattern = r'[^a-zA-z0-9\\s]'\n",
        "    text = re.sub(pattern, '', text)\n",
        "    newData.append(text)\n",
        "  return newData"
      ],
      "execution_count": 0,
      "outputs": []
    },
    {
      "cell_type": "code",
      "metadata": {
        "id": "cMi34FtK0C-A",
        "colab_type": "code",
        "colab": {}
      },
      "source": [
        "# Lemmatizing\n",
        "def get_lemmatized_text(corpus):\n",
        "    from nltk.stem import WordNetLemmatizer\n",
        "    lemmatizer = WordNetLemmatizer()\n",
        "    return [' '.join([lemmatizer.lemmatize(word, pos=\"v\") for word in review.split()]) for review in corpus]"
      ],
      "execution_count": 0,
      "outputs": []
    },
    {
      "cell_type": "code",
      "metadata": {
        "id": "KHQpQRkz1Iea",
        "colab_type": "code",
        "colab": {}
      },
      "source": [
        "def process_data(data):\n",
        "  data_wsc = remove_special_characters(data)\n",
        "  lemm_data = get_lemmatized_text(data_wsc)\n",
        "  return(lemm_data)"
      ],
      "execution_count": 0,
      "outputs": []
    },
    {
      "cell_type": "code",
      "metadata": {
        "id": "cOMAQ_Kj1wij",
        "colab_type": "code",
        "colab": {}
      },
      "source": [
        "# Getting processed Data\n",
        "newsData['Processed_News'] = process_data(newsData['News_Data'])\n",
        "newsData_test['Processed_News'] = process_data(newsData_test['News_Data'])"
      ],
      "execution_count": 0,
      "outputs": []
    },
    {
      "cell_type": "code",
      "metadata": {
        "id": "ou4RFJWE2FIn",
        "colab_type": "code",
        "outputId": "9ccb9f69-236e-4883-8ac1-6399b3227610",
        "colab": {
          "base_uri": "https://localhost:8080/",
          "height": 195
        }
      },
      "source": [
        "newsData.head()"
      ],
      "execution_count": 34,
      "outputs": [
        {
          "output_type": "execute_result",
          "data": {
            "text/html": [
              "<div>\n",
              "<style scoped>\n",
              "    .dataframe tbody tr th:only-of-type {\n",
              "        vertical-align: middle;\n",
              "    }\n",
              "\n",
              "    .dataframe tbody tr th {\n",
              "        vertical-align: top;\n",
              "    }\n",
              "\n",
              "    .dataframe thead th {\n",
              "        text-align: right;\n",
              "    }\n",
              "</style>\n",
              "<table border=\"1\" class=\"dataframe\">\n",
              "  <thead>\n",
              "    <tr style=\"text-align: right;\">\n",
              "      <th></th>\n",
              "      <th>News_Data</th>\n",
              "      <th>Processed_News</th>\n",
              "    </tr>\n",
              "  </thead>\n",
              "  <tbody>\n",
              "    <tr>\n",
              "      <th>0</th>\n",
              "      <td>Viral: A Petition To #UninstallWhatsApp For Am...</td>\n",
              "      <td>Viral A Petition To UninstallWhatsApp For Amit...</td>\n",
              "    </tr>\n",
              "    <tr>\n",
              "      <th>1</th>\n",
              "      <td>Viral Video Of Dolphins In Meerut Stuns Intern...</td>\n",
              "      <td>Viral Video Of Dolphins In Meerut Stuns Intern...</td>\n",
              "    </tr>\n",
              "    <tr>\n",
              "      <th>2</th>\n",
              "      <td>Watch: Stuntmen Choreograph Hilarious Fight Se...</td>\n",
              "      <td>Watch Stuntmen Choreograph Hilarious Fight Seq...</td>\n",
              "    </tr>\n",
              "    <tr>\n",
              "      <th>3</th>\n",
              "      <td>E-Rickshaw Driver's Social Distancing Innovati...</td>\n",
              "      <td>ERickshaw Drivers Social Distancing Innovation...</td>\n",
              "    </tr>\n",
              "    <tr>\n",
              "      <th>4</th>\n",
              "      <td>Watch: RCB Director Mike Hesson Mesmerised By ...</td>\n",
              "      <td>Watch RCB Director Mike Hesson Mesmerised By 6...</td>\n",
              "    </tr>\n",
              "  </tbody>\n",
              "</table>\n",
              "</div>"
            ],
            "text/plain": [
              "                                           News_Data                                     Processed_News\n",
              "0  Viral: A Petition To #UninstallWhatsApp For Am...  Viral A Petition To UninstallWhatsApp For Amit...\n",
              "1  Viral Video Of Dolphins In Meerut Stuns Intern...  Viral Video Of Dolphins In Meerut Stuns Intern...\n",
              "2  Watch: Stuntmen Choreograph Hilarious Fight Se...  Watch Stuntmen Choreograph Hilarious Fight Seq...\n",
              "3  E-Rickshaw Driver's Social Distancing Innovati...  ERickshaw Drivers Social Distancing Innovation...\n",
              "4  Watch: RCB Director Mike Hesson Mesmerised By ...  Watch RCB Director Mike Hesson Mesmerised By 6..."
            ]
          },
          "metadata": {
            "tags": []
          },
          "execution_count": 34
        }
      ]
    },
    {
      "cell_type": "code",
      "metadata": {
        "id": "wPZx0LNkjdve",
        "colab_type": "code",
        "outputId": "2b885feb-f393-47b4-e3a3-2f5d5be70f3b",
        "colab": {
          "base_uri": "https://localhost:8080/",
          "height": 195
        }
      },
      "source": [
        "newsData_test.head()"
      ],
      "execution_count": 35,
      "outputs": [
        {
          "output_type": "execute_result",
          "data": {
            "text/html": [
              "<div>\n",
              "<style scoped>\n",
              "    .dataframe tbody tr th:only-of-type {\n",
              "        vertical-align: middle;\n",
              "    }\n",
              "\n",
              "    .dataframe tbody tr th {\n",
              "        vertical-align: top;\n",
              "    }\n",
              "\n",
              "    .dataframe thead th {\n",
              "        text-align: right;\n",
              "    }\n",
              "</style>\n",
              "<table border=\"1\" class=\"dataframe\">\n",
              "  <thead>\n",
              "    <tr style=\"text-align: right;\">\n",
              "      <th></th>\n",
              "      <th>News_Data</th>\n",
              "      <th>Processed_News</th>\n",
              "    </tr>\n",
              "  </thead>\n",
              "  <tbody>\n",
              "    <tr>\n",
              "      <th>0</th>\n",
              "      <td>Why Government's DA Decision Will Hurt, Not He...</td>\n",
              "      <td>Why Governments DA Decision Will Hurt Not Help...</td>\n",
              "    </tr>\n",
              "    <tr>\n",
              "      <th>1</th>\n",
              "      <td>India Weighs Plan to Guarantee $39 Billion of ...</td>\n",
              "      <td>India Weighs Plan to Guarantee 39 Billion of S...</td>\n",
              "    </tr>\n",
              "    <tr>\n",
              "      <th>2</th>\n",
              "      <td>Lockdown Will Stay In Red Zones; Push \"Do Gaz ...</td>\n",
              "      <td>Lockdown Will Stay In Red Zones Push Do Gaz Do...</td>\n",
              "    </tr>\n",
              "    <tr>\n",
              "      <th>3</th>\n",
              "      <td>Sensex, Nifty Likely To Open Higher On Positiv...</td>\n",
              "      <td>Sensex Nifty Likely To Open Higher On Positive...</td>\n",
              "    </tr>\n",
              "    <tr>\n",
              "      <th>4</th>\n",
              "      <td>E-Rickshaw Driver's Social Distancing Innovati...</td>\n",
              "      <td>ERickshaw Drivers Social Distancing Innovation...</td>\n",
              "    </tr>\n",
              "  </tbody>\n",
              "</table>\n",
              "</div>"
            ],
            "text/plain": [
              "                                           News_Data                                     Processed_News\n",
              "0  Why Government's DA Decision Will Hurt, Not He...  Why Governments DA Decision Will Hurt Not Help...\n",
              "1  India Weighs Plan to Guarantee $39 Billion of ...  India Weighs Plan to Guarantee 39 Billion of S...\n",
              "2  Lockdown Will Stay In Red Zones; Push \"Do Gaz ...  Lockdown Will Stay In Red Zones Push Do Gaz Do...\n",
              "3  Sensex, Nifty Likely To Open Higher On Positiv...  Sensex Nifty Likely To Open Higher On Positive...\n",
              "4  E-Rickshaw Driver's Social Distancing Innovati...  ERickshaw Drivers Social Distancing Innovation..."
            ]
          },
          "metadata": {
            "tags": []
          },
          "execution_count": 35
        }
      ]
    },
    {
      "cell_type": "markdown",
      "metadata": {
        "id": "I_pn94xgxY5E",
        "colab_type": "text"
      },
      "source": [
        "# **Training the Model And Predicting the result**"
      ]
    },
    {
      "cell_type": "code",
      "metadata": {
        "id": "wzFmbU8c2GzL",
        "colab_type": "code",
        "colab": {}
      },
      "source": [
        "from sklearn.feature_extraction.text import TfidfVectorizer\n",
        "from sklearn.linear_model import LogisticRegression\n",
        "from sklearn.feature_extraction.text import CountVectorizer\n",
        "from sklearn.svm import LinearSVC\n",
        "from sklearn.metrics import f1_score,accuracy_score\n",
        "from sklearn.model_selection import train_test_split\n",
        "from sklearn.ensemble import RandomForestRegressor"
      ],
      "execution_count": 0,
      "outputs": []
    },
    {
      "cell_type": "code",
      "metadata": {
        "id": "WwpxFlVdlZDW",
        "colab_type": "code",
        "colab": {}
      },
      "source": [
        "# Function for returning Ngram Model\n",
        "\n",
        "def Ngram(review,review_test,maxRange=2):\n",
        "  ngram_vectorizer = CountVectorizer(binary=True, ngram_range=(1, maxRange))\n",
        "  ngram_vectorizer.fit(review)\n",
        "  X = ngram_vectorizer.transform(review)\n",
        "  X_test = ngram_vectorizer.transform(review_test)\n",
        "  return(X,X_test)\n",
        "\n",
        "# Function for returning TF - IDF (Term Frequency — Inverse Document Frequency) vectoriser the given data\n",
        "\n",
        "def TF_idf(review,review_test):\n",
        "  tfidf_vectorizer = TfidfVectorizer()\n",
        "  tfidf_vectorizer.fit(review)\n",
        "  X = tfidf_vectorizer.transform(review)\n",
        "  X_test = tfidf_vectorizer.transform(review_test)\n",
        "  return(X,X_test)"
      ],
      "execution_count": 0,
      "outputs": []
    },
    {
      "cell_type": "code",
      "metadata": {
        "id": "3TphTLw12nha",
        "colab_type": "code",
        "colab": {}
      },
      "source": [
        "#spiltting the datapoints into train and validation set\n",
        "\n",
        "X,X_test = TF_idf(newsData['Processed_News'],newsData_test['Processed_News'])\n",
        "#X,X_test = Ngram(newsData['Processed_News'],newsData_test['Processed_News'],2)\n",
        "X_train,X_val,y_train,y_val = train_test_split(X, Y, train_size=0.7)"
      ],
      "execution_count": 0,
      "outputs": []
    },
    {
      "cell_type": "code",
      "metadata": {
        "id": "7wmq48BCjpDe",
        "colab_type": "code",
        "outputId": "f3756bf9-6a36-4c31-8fd2-e8f01f49a3ab",
        "colab": {
          "base_uri": "https://localhost:8080/",
          "height": 50
        }
      },
      "source": [
        "#Logistic regression model to train the data\n",
        "\n",
        "lr_model = LogisticRegression(C=1)\n",
        "lr_model.fit(X_train,y_train)\n",
        "lr_predict = lr_model.predict(X_val)\n",
        "\n",
        "#Validating the model's accuracy of Logistic Regression\n",
        "\n",
        "print('Validation F1-score : ' + str(f1_score(lr_predict,y_val)))\n",
        "print('Validation Accuracy : ' + str(accuracy_score(lr_predict,y_val)))"
      ],
      "execution_count": 39,
      "outputs": [
        {
          "output_type": "stream",
          "text": [
            "Validation F1-score : 0.8532883642495784\n",
            "Validation Accuracy : 0.8571428571428571\n"
          ],
          "name": "stdout"
        }
      ]
    },
    {
      "cell_type": "code",
      "metadata": {
        "id": "QfTKxAWMmvpk",
        "colab_type": "code",
        "outputId": "8af0959b-cd00-48be-af3a-78e0e177d09e",
        "colab": {
          "base_uri": "https://localhost:8080/",
          "height": 50
        }
      },
      "source": [
        "# SVM model to train the data\n",
        "\n",
        "svm = LinearSVC()\n",
        "svm.fit(X_train, y_train)\n",
        "pred_svm = svm.predict(X_val)\n",
        "\n",
        "#Validating the model's accuracy of SVM Model\n",
        "\n",
        "print('Validation F1-score : ' + str(f1_score(pred_svm,y_val)))\n",
        "print('Validation Accuracy : ' + str(accuracy_score(pred_svm,y_val)))"
      ],
      "execution_count": 40,
      "outputs": [
        {
          "output_type": "stream",
          "text": [
            "Validation F1-score : 0.8685524126455907\n",
            "Validation Accuracy : 0.8702791461412152\n"
          ],
          "name": "stdout"
        }
      ]
    },
    {
      "cell_type": "markdown",
      "metadata": {
        "id": "ZS6HCXgk3tnk",
        "colab_type": "text"
      },
      "source": [
        "# **Predicting Virality of News using Logistic Regression**"
      ]
    },
    {
      "cell_type": "code",
      "metadata": {
        "id": "Dtgs4qgo3s-D",
        "colab_type": "code",
        "outputId": "d5a6d109-b7eb-470f-a2ae-da9ffd8698a2",
        "colab": {
          "base_uri": "https://localhost:8080/",
          "height": 195
        }
      },
      "source": [
        "# Saving the prediction to \n",
        "lr_model.fit(X,Y)\n",
        "y_test_predict = lr_model.predict_proba(X_test)[:,1]\n",
        "y_predict_df = pd.DataFrame({'News':headLinesTest,'Likelihood of Virality':y_test_predict*100})\n",
        "y_predict_df.to_csv('Virality Predictions.csv')\n",
        "y_predict_df.head()"
      ],
      "execution_count": 42,
      "outputs": [
        {
          "output_type": "execute_result",
          "data": {
            "text/html": [
              "<div>\n",
              "<style scoped>\n",
              "    .dataframe tbody tr th:only-of-type {\n",
              "        vertical-align: middle;\n",
              "    }\n",
              "\n",
              "    .dataframe tbody tr th {\n",
              "        vertical-align: top;\n",
              "    }\n",
              "\n",
              "    .dataframe thead th {\n",
              "        text-align: right;\n",
              "    }\n",
              "</style>\n",
              "<table border=\"1\" class=\"dataframe\">\n",
              "  <thead>\n",
              "    <tr style=\"text-align: right;\">\n",
              "      <th></th>\n",
              "      <th>News</th>\n",
              "      <th>Likelihood of Virality</th>\n",
              "    </tr>\n",
              "  </thead>\n",
              "  <tbody>\n",
              "    <tr>\n",
              "      <th>0</th>\n",
              "      <td>Why Government's DA Decision Will Hurt, Not He...</td>\n",
              "      <td>32.094474</td>\n",
              "    </tr>\n",
              "    <tr>\n",
              "      <th>1</th>\n",
              "      <td>India Weighs Plan to Guarantee $39 Billion of ...</td>\n",
              "      <td>19.974552</td>\n",
              "    </tr>\n",
              "    <tr>\n",
              "      <th>2</th>\n",
              "      <td>Lockdown Will Stay In Red Zones; Push \"Do Gaz ...</td>\n",
              "      <td>16.596383</td>\n",
              "    </tr>\n",
              "    <tr>\n",
              "      <th>3</th>\n",
              "      <td>Sensex, Nifty Likely To Open Higher On Positiv...</td>\n",
              "      <td>17.557001</td>\n",
              "    </tr>\n",
              "    <tr>\n",
              "      <th>4</th>\n",
              "      <td>E-Rickshaw Driver's Social Distancing Innovati...</td>\n",
              "      <td>57.453482</td>\n",
              "    </tr>\n",
              "  </tbody>\n",
              "</table>\n",
              "</div>"
            ],
            "text/plain": [
              "                                                News  Likelihood of Virality\n",
              "0  Why Government's DA Decision Will Hurt, Not He...               32.094474\n",
              "1  India Weighs Plan to Guarantee $39 Billion of ...               19.974552\n",
              "2  Lockdown Will Stay In Red Zones; Push \"Do Gaz ...               16.596383\n",
              "3  Sensex, Nifty Likely To Open Higher On Positiv...               17.557001\n",
              "4  E-Rickshaw Driver's Social Distancing Innovati...               57.453482"
            ]
          },
          "metadata": {
            "tags": []
          },
          "execution_count": 42
        }
      ]
    }
  ]
}